{
 "cells": [
  {
   "cell_type": "code",
   "execution_count": 3,
   "id": "fc7dcabc",
   "metadata": {},
   "outputs": [],
   "source": [
    "import time\n",
    "import re\n",
    "import os\n",
    "from bs4 import BeautifulSoup\n",
    "import undetected_chromedriver as uc\n",
    "from selenium.webdriver.common.by import By\n",
    "from selenium.webdriver.common.keys import Keys\n",
    "from selenium.webdriver.common.action_chains import ActionChains"
   ]
  },
  {
   "cell_type": "code",
   "execution_count": 11,
   "id": "c47b7070",
   "metadata": {},
   "outputs": [],
   "source": [
    "options = uc.ChromeOptions()\n",
    "driver = uc.Chrome(options=options,use_subprocess=True)\n",
    "search_url = f\"https://www.flipkart.com/search?q=iphone\"\n",
    "driver.get(search_url)\n",
    "time.sleep(4)\n",
    "items = driver.find_elements(By.CSS_SELECTOR, \"div[data-id]\")[:3]"
   ]
  },
  {
   "cell_type": "code",
   "execution_count": 12,
   "id": "b5bbc035",
   "metadata": {},
   "outputs": [
    {
     "data": {
      "text/plain": [
       "<undetected_chromedriver.webelement.WebElement (session=\"2d96105fdc83f7756a6efd8230930f3e\", element=\"f.FBF006AD9FCC3D4E95FF413D99ED935D.d.AF05127B63859E6B179AE4CC8BF2E0BD.e.187\")>"
      ]
     },
     "execution_count": 12,
     "metadata": {},
     "output_type": "execute_result"
    }
   ],
   "source": [
    "items[0]"
   ]
  },
  {
   "cell_type": "code",
   "execution_count": 13,
   "id": "a3bf3c13",
   "metadata": {},
   "outputs": [
    {
     "data": {
      "text/plain": [
       "'Apple iPhone 13 (Starlight, 128 GB)'"
      ]
     },
     "execution_count": 13,
     "metadata": {},
     "output_type": "execute_result"
    }
   ],
   "source": [
    "items[0].find_element(By.CSS_SELECTOR, \"div.KzDlHZ\").text.strip()"
   ]
  },
  {
   "cell_type": "code",
   "execution_count": 22,
   "id": "fd638fa8",
   "metadata": {},
   "outputs": [],
   "source": [
    "import requests"
   ]
  },
  {
   "cell_type": "code",
   "execution_count": 27,
   "id": "190324cd",
   "metadata": {},
   "outputs": [],
   "source": [
    "check=\"https://www.flipkart.com/apple-iphone-13-starlight-128-gb/p/itmc9604f122ae7f?pid=MOBG6VF5ADKHKXFX&lid=LSTMOBG6VF5ADKHKXFX4LCPEV&marketplace=FLIPKART&q=iphone&store=tyy%2F4io&srno=s_1_1&otracker=search&fm=organic&iid=6f6ad279-550f-4d65-a569-a8adebbca540.MOBG6VF5ADKHKXFX.SEARCH&ppt=None&ppn=None&ssid=g6bsbjb8yo0000001757666621684&qH=0b3f45b266a97d70\""
   ]
  },
  {
   "cell_type": "code",
   "execution_count": 28,
   "id": "03bc345c",
   "metadata": {},
   "outputs": [],
   "source": [
    "r=requests.get(url=check)"
   ]
  },
  {
   "cell_type": "code",
   "execution_count": 30,
   "id": "47cd206a",
   "metadata": {},
   "outputs": [],
   "source": [
    "s=BeautifulSoup(r.text, 'lxml')"
   ]
  },
  {
   "cell_type": "code",
   "execution_count": 40,
   "id": "f08dd3e4",
   "metadata": {},
   "outputs": [],
   "source": [
    "title = items[0].find_element(By.XPATH, \".//span\").text.strip()\n"
   ]
  },
  {
   "cell_type": "code",
   "execution_count": 41,
   "id": "8e30b6df",
   "metadata": {},
   "outputs": [
    {
     "data": {
      "text/plain": [
       "''"
      ]
     },
     "execution_count": 41,
     "metadata": {},
     "output_type": "execute_result"
    }
   ],
   "source": [
    "title"
   ]
  },
  {
   "cell_type": "code",
   "execution_count": null,
   "id": "2ba42049",
   "metadata": {},
   "outputs": [],
   "source": []
  }
 ],
 "metadata": {
  "kernelspec": {
   "display_name": "venv (3.11.13)",
   "language": "python",
   "name": "python3"
  },
  "language_info": {
   "codemirror_mode": {
    "name": "ipython",
    "version": 3
   },
   "file_extension": ".py",
   "mimetype": "text/x-python",
   "name": "python",
   "nbconvert_exporter": "python",
   "pygments_lexer": "ipython3",
   "version": "3.11.13"
  }
 },
 "nbformat": 4,
 "nbformat_minor": 5
}
