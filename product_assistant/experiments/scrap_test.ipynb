{
 "cells": [
  {
   "cell_type": "code",
   "execution_count": 3,
   "id": "fc7dcabc",
   "metadata": {},
   "outputs": [],
   "source": [
    "import time\n",
    "import re\n",
    "import os\n",
    "from bs4 import BeautifulSoup\n",
    "import undetected_chromedriver as uc\n",
    "from selenium.webdriver.common.by import By\n",
    "from selenium.webdriver.common.keys import Keys\n",
    "from selenium.webdriver.common.action_chains import ActionChains"
   ]
  },
  {
   "cell_type": "code",
   "execution_count": 11,
   "id": "c47b7070",
   "metadata": {},
   "outputs": [],
   "source": [
    "options = uc.ChromeOptions()\n",
    "driver = uc.Chrome(options=options,use_subprocess=True)\n",
    "search_url = f\"https://www.flipkart.com/search?q=iphone\"\n",
    "driver.get(search_url)\n",
    "time.sleep(4)\n",
    "items = driver.find_elements(By.CSS_SELECTOR, \"div[data-id]\")[:3]"
   ]
  },
  {
   "cell_type": "code",
   "execution_count": 12,
   "id": "b5bbc035",
   "metadata": {},
   "outputs": [
    {
     "data": {
      "text/plain": [
       "<undetected_chromedriver.webelement.WebElement (session=\"2d96105fdc83f7756a6efd8230930f3e\", element=\"f.FBF006AD9FCC3D4E95FF413D99ED935D.d.AF05127B63859E6B179AE4CC8BF2E0BD.e.187\")>"
      ]
     },
     "execution_count": 12,
     "metadata": {},
     "output_type": "execute_result"
    }
   ],
   "source": [
    "items[0]"
   ]
  },
  {
   "cell_type": "code",
   "execution_count": 13,
   "id": "a3bf3c13",
   "metadata": {},
   "outputs": [
    {
     "data": {
      "text/plain": [
       "'Apple iPhone 13 (Starlight, 128 GB)'"
      ]
     },
     "execution_count": 13,
     "metadata": {},
     "output_type": "execute_result"
    }
   ],
   "source": [
    "items[0].find_element(By.CSS_SELECTOR, \"div.KzDlHZ\").text.strip()"
   ]
  },
  {
   "cell_type": "code",
   "execution_count": 22,
   "id": "fd638fa8",
   "metadata": {},
   "outputs": [],
   "source": [
    "import requests"
   ]
  },
  {
   "cell_type": "code",
   "execution_count": 27,
   "id": "190324cd",
   "metadata": {},
   "outputs": [],
   "source": [
    "check=\"https://www.flipkart.com/apple-iphone-13-starlight-128-gb/p/itmc9604f122ae7f?pid=MOBG6VF5ADKHKXFX&lid=LSTMOBG6VF5ADKHKXFX4LCPEV&marketplace=FLIPKART&q=iphone&store=tyy%2F4io&srno=s_1_1&otracker=search&fm=organic&iid=6f6ad279-550f-4d65-a569-a8adebbca540.MOBG6VF5ADKHKXFX.SEARCH&ppt=None&ppn=None&ssid=g6bsbjb8yo0000001757666621684&qH=0b3f45b266a97d70\""
   ]
  },
  {
   "cell_type": "code",
   "execution_count": 28,
   "id": "03bc345c",
   "metadata": {},
   "outputs": [],
   "source": [
    "r=requests.get(url=check)"
   ]
  },
  {
   "cell_type": "code",
   "execution_count": 30,
   "id": "47cd206a",
   "metadata": {},
   "outputs": [],
   "source": [
    "s=BeautifulSoup(r.text, 'lxml')"
   ]
  },
  {
   "cell_type": "code",
   "execution_count": 40,
   "id": "f08dd3e4",
   "metadata": {},
   "outputs": [],
   "source": [
    "title = items[0].find_element(By.XPATH, \".//span\").text.strip()\n"
   ]
  },
  {
   "cell_type": "code",
   "execution_count": 41,
   "id": "8e30b6df",
   "metadata": {},
   "outputs": [
    {
     "data": {
      "text/plain": [
       "''"
      ]
     },
     "execution_count": 41,
     "metadata": {},
     "output_type": "execute_result"
    }
   ],
   "source": [
    "title"
   ]
  },
  {
   "cell_type": "code",
   "execution_count": 1,
   "id": "2ba42049",
   "metadata": {},
   "outputs": [],
   "source": [
    "import pandas as pd\n",
    "data_path = r\"C:\\Users\\ARUN\\ecom_proj\\data\\product_reviews.csv\"\n",
    "df=pd.read_csv(data_path)"
   ]
  },
  {
   "cell_type": "code",
   "execution_count": 2,
   "id": "2cc640f2",
   "metadata": {},
   "outputs": [
    {
     "data": {
      "text/html": [
       "<div>\n",
       "<style scoped>\n",
       "    .dataframe tbody tr th:only-of-type {\n",
       "        vertical-align: middle;\n",
       "    }\n",
       "\n",
       "    .dataframe tbody tr th {\n",
       "        vertical-align: top;\n",
       "    }\n",
       "\n",
       "    .dataframe thead th {\n",
       "        text-align: right;\n",
       "    }\n",
       "</style>\n",
       "<table border=\"1\" class=\"dataframe\">\n",
       "  <thead>\n",
       "    <tr style=\"text-align: right;\">\n",
       "      <th></th>\n",
       "      <th>product_id</th>\n",
       "      <th>product_title</th>\n",
       "      <th>rating</th>\n",
       "      <th>total_reviews</th>\n",
       "      <th>price</th>\n",
       "      <th>top_reviews</th>\n",
       "    </tr>\n",
       "  </thead>\n",
       "  <tbody>\n",
       "    <tr>\n",
       "      <th>0</th>\n",
       "      <td>itm6ac6485515ae4</td>\n",
       "      <td>Apple iPhone 15 (Black, 128 GB)</td>\n",
       "      <td>4.6</td>\n",
       "      <td>9,414</td>\n",
       "      <td>₹64,900</td>\n",
       "      <td>5 Fabulous! Awesome 😎 READ MORE Thakur Surya P...</td>\n",
       "    </tr>\n",
       "    <tr>\n",
       "      <th>1</th>\n",
       "      <td>itmbf14ef54f645d</td>\n",
       "      <td>Apple iPhone 15 (Blue, 128 GB)</td>\n",
       "      <td>4.6</td>\n",
       "      <td>9,414</td>\n",
       "      <td>₹64,900</td>\n",
       "      <td>5 Fabulous! Awesome 😎 READ MORE Thakur Surya P...</td>\n",
       "    </tr>\n",
       "  </tbody>\n",
       "</table>\n",
       "</div>"
      ],
      "text/plain": [
       "         product_id                    product_title  rating total_reviews  \\\n",
       "0  itm6ac6485515ae4  Apple iPhone 15 (Black, 128 GB)     4.6         9,414   \n",
       "1  itmbf14ef54f645d   Apple iPhone 15 (Blue, 128 GB)     4.6         9,414   \n",
       "\n",
       "     price                                        top_reviews  \n",
       "0  ₹64,900  5 Fabulous! Awesome 😎 READ MORE Thakur Surya P...  \n",
       "1  ₹64,900  5 Fabulous! Awesome 😎 READ MORE Thakur Surya P...  "
      ]
     },
     "execution_count": 2,
     "metadata": {},
     "output_type": "execute_result"
    }
   ],
   "source": [
    "df.head(2)"
   ]
  },
  {
   "cell_type": "code",
   "execution_count": 3,
   "id": "c0c377a1",
   "metadata": {},
   "outputs": [],
   "source": [
    "from langchain_core.documents import Document"
   ]
  },
  {
   "cell_type": "code",
   "execution_count": 18,
   "id": "3f24f856",
   "metadata": {},
   "outputs": [],
   "source": [
    "docs=[Document(page_content=row[\"top_reviews\"],\n",
    "          metadata={\"source\":\"flipkart\",\n",
    "                    **{k:row[k] for k in [\"product_id\",\"product_title\",\"rating\",\"total_reviews\"]}\n",
    "                    }) for row in df.to_dict(orient=\"records\")]\n"
   ]
  },
  {
   "cell_type": "code",
   "execution_count": 19,
   "id": "3c28b138",
   "metadata": {},
   "outputs": [],
   "source": [
    "from langchain.text_splitter import RecursiveCharacterTextSplitter\n",
    "text_splitter = RecursiveCharacterTextSplitter(chunk_size=1000, chunk_overlap=150)"
   ]
  },
  {
   "cell_type": "code",
   "execution_count": 26,
   "id": "742c6bed",
   "metadata": {},
   "outputs": [],
   "source": [
    "updated_docs=[]\n",
    "for doc in docs[:1]:\n",
    "    \n",
    "    splits=text_splitter.split_text(doc.page_content)\n",
    "    for chunk in splits:\n",
    "        updated_docs.append(Document(page_content=chunk,metadata=doc.metadata))\n",
    "    "
   ]
  },
  {
   "cell_type": "code",
   "execution_count": 27,
   "id": "d4c4b2e9",
   "metadata": {},
   "outputs": [
    {
     "data": {
      "text/plain": [
       "[Document(metadata={'source': 'flipkart', 'product_id': 'itm6ac6485515ae4', 'product_title': 'Apple iPhone 15 (Black, 128 GB)', 'rating': 4.6, 'total_reviews': '9,414'}, page_content='5 Fabulous! Awesome 😎 READ MORE Thakur Surya Pratap Singh Certified Buyer , Hanumana 7 months ago 848 190 Permalink Report Abuse || 5 Worth every penny Just go for it.Amazing one.Beautiful camera with super fast processor READ MORE bijaya mohanty Certified Buyer , Baleshwar May, 2024 4410 1087 Permalink Report Abuse || 5 Excellent Awesome product very happy to hold this. Better In hand feel,matte finish. Good camera, Brighter screen with Dynamic Island, USB-C, great battery life. 60Hz display is a dealbreaker for some.Its not much noticeable. Thank u Flipkart for the best deal and quick delivery. READ MORE Arunji Govindaraju Certified Buyer , Chennai Feb, 2024 703 157 Permalink Report Abuse || 5 Awesome Switch from OnePlus to iPhone I am stunned with camera performance. Everything is perfect on  iPhone 15. READ MORE Nikhil Kumar Certified Buyer , Meerut Division Jan, 2024 1921 462 Permalink Report Abuse || 5 Fabulous! So beautiful, so elegant, just a vowww😍❤️ READ MORE Akshay Meena'),\n",
       " Document(metadata={'source': 'flipkart', 'product_id': 'itm6ac6485515ae4', 'product_title': 'Apple iPhone 15 (Black, 128 GB)', 'rating': 4.6, 'total_reviews': '9,414'}, page_content='Buyer , Meerut Division Jan, 2024 1921 462 Permalink Report Abuse || 5 Fabulous! So beautiful, so elegant, just a vowww😍❤️ READ MORE Akshay Meena Certified Buyer , Jaipur Nov, 2023 953 221 Permalink Report Abuse || 5 Worth every penny Awesome photography experience. Battery backup is good . Display is much better than 14 version. READ MORE Flipkart Customer Certified Buyer , Aizawl Jan, 2024 1483 355 Permalink Report Abuse')]"
      ]
     },
     "execution_count": 27,
     "metadata": {},
     "output_type": "execute_result"
    }
   ],
   "source": [
    "updated_docs"
   ]
  },
  {
   "cell_type": "code",
   "execution_count": null,
   "id": "2f0f0b64",
   "metadata": {},
   "outputs": [],
   "source": []
  }
 ],
 "metadata": {
  "kernelspec": {
   "display_name": "venv (3.11.13)",
   "language": "python",
   "name": "python3"
  },
  "language_info": {
   "codemirror_mode": {
    "name": "ipython",
    "version": 3
   },
   "file_extension": ".py",
   "mimetype": "text/x-python",
   "name": "python",
   "nbconvert_exporter": "python",
   "pygments_lexer": "ipython3",
   "version": "3.11.13"
  }
 },
 "nbformat": 4,
 "nbformat_minor": 5
}
